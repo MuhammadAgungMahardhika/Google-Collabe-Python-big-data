{
  "nbformat": 4,
  "nbformat_minor": 0,
  "metadata": {
    "colab": {
      "name": "Pertemuan 13-15  - Linear Regression.ipynb",
      "provenance": [],
      "include_colab_link": true
    },
    "kernelspec": {
      "name": "python3",
      "display_name": "Python 3"
    },
    "language_info": {
      "name": "python"
    }
  },
  "cells": [
    {
      "cell_type": "markdown",
      "metadata": {
        "id": "view-in-github",
        "colab_type": "text"
      },
      "source": [
        "<a href=\"https://colab.research.google.com/github/MuhammadAgungMahardhika/big-data/blob/main/Pertemuan13_15_Linear_Regression.ipynb\" target=\"_parent\"><img src=\"https://colab.research.google.com/assets/colab-badge.svg\" alt=\"Open In Colab\"/></a>"
      ]
    },
    {
      "cell_type": "code",
      "metadata": {
        "colab": {
          "base_uri": "https://localhost:8080/"
        },
        "id": "WhZEVJs8jZhL",
        "outputId": "73329d44-7d1a-46e0-e3d1-20f6f4f8af9c"
      },
      "source": [
        "from google.colab import drive\n",
        "drive.mount(\"/content/gdrive\")"
      ],
      "execution_count": null,
      "outputs": [
        {
          "output_type": "stream",
          "text": [
            "Drive already mounted at /content/gdrive; to attempt to forcibly remount, call drive.mount(\"/content/gdrive\", force_remount=True).\n"
          ],
          "name": "stdout"
        }
      ]
    },
    {
      "cell_type": "code",
      "metadata": {
        "colab": {
          "base_uri": "https://localhost:8080/",
          "height": 204
        },
        "id": "sIAHDO_c1Cid",
        "outputId": "c89a6095-2527-471a-f6d5-d2c20331f2a0"
      },
      "source": [
        "import pandas as pd\n",
        "import numpy as np\n",
        "import seaborn as sns\n",
        "%matplotlib inline\n",
        "import matplotlib.pyplot as plt\n",
        "import math\n",
        "\n",
        "dataset = pd.read_csv('/content/gdrive/My Drive/prices-split-adjusted.csv')\n",
        "dataset.head()\n"
      ],
      "execution_count": null,
      "outputs": [
        {
          "output_type": "execute_result",
          "data": {
            "text/html": [
              "<div>\n",
              "<style scoped>\n",
              "    .dataframe tbody tr th:only-of-type {\n",
              "        vertical-align: middle;\n",
              "    }\n",
              "\n",
              "    .dataframe tbody tr th {\n",
              "        vertical-align: top;\n",
              "    }\n",
              "\n",
              "    .dataframe thead th {\n",
              "        text-align: right;\n",
              "    }\n",
              "</style>\n",
              "<table border=\"1\" class=\"dataframe\">\n",
              "  <thead>\n",
              "    <tr style=\"text-align: right;\">\n",
              "      <th></th>\n",
              "      <th>date</th>\n",
              "      <th>symbol</th>\n",
              "      <th>open</th>\n",
              "      <th>close</th>\n",
              "      <th>low</th>\n",
              "      <th>high</th>\n",
              "      <th>volume</th>\n",
              "    </tr>\n",
              "  </thead>\n",
              "  <tbody>\n",
              "    <tr>\n",
              "      <th>0</th>\n",
              "      <td>2016-01-05</td>\n",
              "      <td>WLTW</td>\n",
              "      <td>123.430000</td>\n",
              "      <td>125.839996</td>\n",
              "      <td>122.309998</td>\n",
              "      <td>126.250000</td>\n",
              "      <td>2163600.0</td>\n",
              "    </tr>\n",
              "    <tr>\n",
              "      <th>1</th>\n",
              "      <td>2016-01-06</td>\n",
              "      <td>WLTW</td>\n",
              "      <td>125.239998</td>\n",
              "      <td>119.980003</td>\n",
              "      <td>119.940002</td>\n",
              "      <td>125.540001</td>\n",
              "      <td>2386400.0</td>\n",
              "    </tr>\n",
              "    <tr>\n",
              "      <th>2</th>\n",
              "      <td>2016-01-07</td>\n",
              "      <td>WLTW</td>\n",
              "      <td>116.379997</td>\n",
              "      <td>114.949997</td>\n",
              "      <td>114.930000</td>\n",
              "      <td>119.739998</td>\n",
              "      <td>2489500.0</td>\n",
              "    </tr>\n",
              "    <tr>\n",
              "      <th>3</th>\n",
              "      <td>2016-01-08</td>\n",
              "      <td>WLTW</td>\n",
              "      <td>115.480003</td>\n",
              "      <td>116.620003</td>\n",
              "      <td>113.500000</td>\n",
              "      <td>117.440002</td>\n",
              "      <td>2006300.0</td>\n",
              "    </tr>\n",
              "    <tr>\n",
              "      <th>4</th>\n",
              "      <td>2016-01-11</td>\n",
              "      <td>WLTW</td>\n",
              "      <td>117.010002</td>\n",
              "      <td>114.970001</td>\n",
              "      <td>114.089996</td>\n",
              "      <td>117.330002</td>\n",
              "      <td>1408600.0</td>\n",
              "    </tr>\n",
              "  </tbody>\n",
              "</table>\n",
              "</div>"
            ],
            "text/plain": [
              "         date symbol        open       close         low        high     volume\n",
              "0  2016-01-05   WLTW  123.430000  125.839996  122.309998  126.250000  2163600.0\n",
              "1  2016-01-06   WLTW  125.239998  119.980003  119.940002  125.540001  2386400.0\n",
              "2  2016-01-07   WLTW  116.379997  114.949997  114.930000  119.739998  2489500.0\n",
              "3  2016-01-08   WLTW  115.480003  116.620003  113.500000  117.440002  2006300.0\n",
              "4  2016-01-11   WLTW  117.010002  114.970001  114.089996  117.330002  1408600.0"
            ]
          },
          "metadata": {
            "tags": []
          },
          "execution_count": 31
        }
      ]
    },
    {
      "cell_type": "code",
      "metadata": {
        "colab": {
          "base_uri": "https://localhost:8080/"
        },
        "id": "w7YqwYxbvIxa",
        "outputId": "edbe800a-d252-4a4f-d822-74a051352c06"
      },
      "source": [
        "print(\"Result: \"+str(len(dataset.index)))"
      ],
      "execution_count": null,
      "outputs": [
        {
          "output_type": "stream",
          "text": [
            "Result: 851264\n"
          ],
          "name": "stdout"
        }
      ]
    },
    {
      "cell_type": "code",
      "metadata": {
        "colab": {
          "base_uri": "https://localhost:8080/",
          "height": 297
        },
        "id": "GpKQ_EoQi1x5",
        "outputId": "04874823-50e2-4b0e-c1b6-74a65d394e0f"
      },
      "source": [
        "dataset.describe()"
      ],
      "execution_count": null,
      "outputs": [
        {
          "output_type": "execute_result",
          "data": {
            "text/html": [
              "<div>\n",
              "<style scoped>\n",
              "    .dataframe tbody tr th:only-of-type {\n",
              "        vertical-align: middle;\n",
              "    }\n",
              "\n",
              "    .dataframe tbody tr th {\n",
              "        vertical-align: top;\n",
              "    }\n",
              "\n",
              "    .dataframe thead th {\n",
              "        text-align: right;\n",
              "    }\n",
              "</style>\n",
              "<table border=\"1\" class=\"dataframe\">\n",
              "  <thead>\n",
              "    <tr style=\"text-align: right;\">\n",
              "      <th></th>\n",
              "      <th>open</th>\n",
              "      <th>close</th>\n",
              "      <th>low</th>\n",
              "      <th>high</th>\n",
              "      <th>volume</th>\n",
              "    </tr>\n",
              "  </thead>\n",
              "  <tbody>\n",
              "    <tr>\n",
              "      <th>count</th>\n",
              "      <td>851264.000000</td>\n",
              "      <td>851264.000000</td>\n",
              "      <td>851264.000000</td>\n",
              "      <td>851264.000000</td>\n",
              "      <td>8.512640e+05</td>\n",
              "    </tr>\n",
              "    <tr>\n",
              "      <th>mean</th>\n",
              "      <td>64.993618</td>\n",
              "      <td>65.011913</td>\n",
              "      <td>64.336541</td>\n",
              "      <td>65.639748</td>\n",
              "      <td>5.415113e+06</td>\n",
              "    </tr>\n",
              "    <tr>\n",
              "      <th>std</th>\n",
              "      <td>75.203893</td>\n",
              "      <td>75.201216</td>\n",
              "      <td>74.459518</td>\n",
              "      <td>75.906861</td>\n",
              "      <td>1.249468e+07</td>\n",
              "    </tr>\n",
              "    <tr>\n",
              "      <th>min</th>\n",
              "      <td>1.660000</td>\n",
              "      <td>1.590000</td>\n",
              "      <td>1.500000</td>\n",
              "      <td>1.810000</td>\n",
              "      <td>0.000000e+00</td>\n",
              "    </tr>\n",
              "    <tr>\n",
              "      <th>25%</th>\n",
              "      <td>31.270000</td>\n",
              "      <td>31.292776</td>\n",
              "      <td>30.940001</td>\n",
              "      <td>31.620001</td>\n",
              "      <td>1.221500e+06</td>\n",
              "    </tr>\n",
              "    <tr>\n",
              "      <th>50%</th>\n",
              "      <td>48.459999</td>\n",
              "      <td>48.480000</td>\n",
              "      <td>47.970001</td>\n",
              "      <td>48.959999</td>\n",
              "      <td>2.476250e+06</td>\n",
              "    </tr>\n",
              "    <tr>\n",
              "      <th>75%</th>\n",
              "      <td>75.120003</td>\n",
              "      <td>75.139999</td>\n",
              "      <td>74.400002</td>\n",
              "      <td>75.849998</td>\n",
              "      <td>5.222500e+06</td>\n",
              "    </tr>\n",
              "    <tr>\n",
              "      <th>max</th>\n",
              "      <td>1584.439941</td>\n",
              "      <td>1578.130005</td>\n",
              "      <td>1549.939941</td>\n",
              "      <td>1600.930054</td>\n",
              "      <td>8.596434e+08</td>\n",
              "    </tr>\n",
              "  </tbody>\n",
              "</table>\n",
              "</div>"
            ],
            "text/plain": [
              "                open          close            low           high        volume\n",
              "count  851264.000000  851264.000000  851264.000000  851264.000000  8.512640e+05\n",
              "mean       64.993618      65.011913      64.336541      65.639748  5.415113e+06\n",
              "std        75.203893      75.201216      74.459518      75.906861  1.249468e+07\n",
              "min         1.660000       1.590000       1.500000       1.810000  0.000000e+00\n",
              "25%        31.270000      31.292776      30.940001      31.620001  1.221500e+06\n",
              "50%        48.459999      48.480000      47.970001      48.959999  2.476250e+06\n",
              "75%        75.120003      75.139999      74.400002      75.849998  5.222500e+06\n",
              "max      1584.439941    1578.130005    1549.939941    1600.930054  8.596434e+08"
            ]
          },
          "metadata": {
            "tags": []
          },
          "execution_count": 33
        }
      ]
    },
    {
      "cell_type": "code",
      "metadata": {
        "colab": {
          "base_uri": "https://localhost:8080/",
          "height": 295
        },
        "id": "jCmg5Gk0kFI-",
        "outputId": "4f51a16b-f9c8-4e60-e171-da3716dc083f"
      },
      "source": [
        "dataset.plot(x='high', y='close', style='o')\n",
        "plt.title('Harga Penutup Berdasarkan Harga Tertinggi ')\n",
        "plt.xlabel('Harga Tertinggi')\n",
        "plt.ylabel('Harga Penutup')\n",
        "plt.show()"
      ],
      "execution_count": null,
      "outputs": [
        {
          "output_type": "display_data",
          "data": {
            "image/png": "[encoded data removed]",
            "text/plain": [
              "<Figure size 432x288 with 1 Axes>"
            ]
          },
          "metadata": {
            "tags": [],
            "needs_background": "light"
          }
        }
      ]
    },
    {
      "cell_type": "code",
      "metadata": {
        "colab": {
          "base_uri": "https://localhost:8080/",
          "height": 204
        },
        "id": "lcQselX8_CHB",
        "outputId": "42ebda9c-5c38-4273-b26e-52a9f366d71b"
      },
      "source": [
        "datasets = dataset[[\"close\", \"high\"]]\n",
        "datasets.head()"
      ],
      "execution_count": null,
      "outputs": [
        {
          "output_type": "execute_result",
          "data": {
            "text/html": [
              "<div>\n",
              "<style scoped>\n",
              "    .dataframe tbody tr th:only-of-type {\n",
              "        vertical-align: middle;\n",
              "    }\n",
              "\n",
              "    .dataframe tbody tr th {\n",
              "        vertical-align: top;\n",
              "    }\n",
              "\n",
              "    .dataframe thead th {\n",
              "        text-align: right;\n",
              "    }\n",
              "</style>\n",
              "<table border=\"1\" class=\"dataframe\">\n",
              "  <thead>\n",
              "    <tr style=\"text-align: right;\">\n",
              "      <th></th>\n",
              "      <th>close</th>\n",
              "      <th>high</th>\n",
              "    </tr>\n",
              "  </thead>\n",
              "  <tbody>\n",
              "    <tr>\n",
              "      <th>0</th>\n",
              "      <td>125.839996</td>\n",
              "      <td>126.250000</td>\n",
              "    </tr>\n",
              "    <tr>\n",
              "      <th>1</th>\n",
              "      <td>119.980003</td>\n",
              "      <td>125.540001</td>\n",
              "    </tr>\n",
              "    <tr>\n",
              "      <th>2</th>\n",
              "      <td>114.949997</td>\n",
              "      <td>119.739998</td>\n",
              "    </tr>\n",
              "    <tr>\n",
              "      <th>3</th>\n",
              "      <td>116.620003</td>\n",
              "      <td>117.440002</td>\n",
              "    </tr>\n",
              "    <tr>\n",
              "      <th>4</th>\n",
              "      <td>114.970001</td>\n",
              "      <td>117.330002</td>\n",
              "    </tr>\n",
              "  </tbody>\n",
              "</table>\n",
              "</div>"
            ],
            "text/plain": [
              "        close        high\n",
              "0  125.839996  126.250000\n",
              "1  119.980003  125.540001\n",
              "2  114.949997  119.739998\n",
              "3  116.620003  117.440002\n",
              "4  114.970001  117.330002"
            ]
          },
          "metadata": {
            "tags": []
          },
          "execution_count": 35
        }
      ]
    },
    {
      "cell_type": "code",
      "metadata": {
        "id": "aAaUr0cJmVZ8"
      },
      "source": [
        "x = datasets.iloc[:,:-1].values\n",
        "y = datasets.iloc[:, 1].values"
      ],
      "execution_count": null,
      "outputs": []
    },
    {
      "cell_type": "code",
      "metadata": {
        "id": "6-BrPuIQmxnO"
      },
      "source": [
        "from sklearn.model_selection import train_test_split\n",
        "x_train, x_test, y_train, y_test = train_test_split(x,y,test_size=0.2, random_state=0)"
      ],
      "execution_count": null,
      "outputs": []
    },
    {
      "cell_type": "code",
      "metadata": {
        "colab": {
          "base_uri": "https://localhost:8080/"
        },
        "id": "Vev1iTOwnWRD",
        "outputId": "f0346749-0d08-4d71-83c1-0c7f04de7710"
      },
      "source": [
        "from sklearn.linear_model import LinearRegression\n",
        "lireg=LinearRegression()\n",
        "lireg.fit(x_train,y_train)"
      ],
      "execution_count": null,
      "outputs": [
        {
          "output_type": "execute_result",
          "data": {
            "text/plain": [
              "LinearRegression(copy_X=True, fit_intercept=True, n_jobs=None, normalize=False)"
            ]
          },
          "metadata": {
            "tags": []
          },
          "execution_count": 38
        }
      ]
    },
    {
      "cell_type": "code",
      "metadata": {
        "colab": {
          "base_uri": "https://localhost:8080/",
          "height": 419
        },
        "id": "U7quqcY3o476",
        "outputId": "d51d0810-789f-4866-cc49-de7514e0d03a"
      },
      "source": [
        "y_pred=lireg.predict(x_test)\n",
        "dataframe = pd.DataFrame({'Data Sebenarnya' : y_test, 'Data Prediksi' : y_pred})\n",
        "dataframe"
      ],
      "execution_count": null,
      "outputs": [
        {
          "output_type": "execute_result",
          "data": {
            "text/html": [
              "<div>\n",
              "<style scoped>\n",
              "    .dataframe tbody tr th:only-of-type {\n",
              "        vertical-align: middle;\n",
              "    }\n",
              "\n",
              "    .dataframe tbody tr th {\n",
              "        vertical-align: top;\n",
              "    }\n",
              "\n",
              "    .dataframe thead th {\n",
              "        text-align: right;\n",
              "    }\n",
              "</style>\n",
              "<table border=\"1\" class=\"dataframe\">\n",
              "  <thead>\n",
              "    <tr style=\"text-align: right;\">\n",
              "      <th></th>\n",
              "      <th>Data Sebenarnya</th>\n",
              "      <th>Data Prediksi</th>\n",
              "    </tr>\n",
              "  </thead>\n",
              "  <tbody>\n",
              "    <tr>\n",
              "      <th>0</th>\n",
              "      <td>45.799999</td>\n",
              "      <td>45.835434</td>\n",
              "    </tr>\n",
              "    <tr>\n",
              "      <th>1</th>\n",
              "      <td>64.690002</td>\n",
              "      <td>65.202844</td>\n",
              "    </tr>\n",
              "    <tr>\n",
              "      <th>2</th>\n",
              "      <td>111.779999</td>\n",
              "      <td>111.718933</td>\n",
              "    </tr>\n",
              "    <tr>\n",
              "      <th>3</th>\n",
              "      <td>41.000000</td>\n",
              "      <td>41.112168</td>\n",
              "    </tr>\n",
              "    <tr>\n",
              "      <th>4</th>\n",
              "      <td>42.439999</td>\n",
              "      <td>42.817795</td>\n",
              "    </tr>\n",
              "    <tr>\n",
              "      <th>...</th>\n",
              "      <td>...</td>\n",
              "      <td>...</td>\n",
              "    </tr>\n",
              "    <tr>\n",
              "      <th>170248</th>\n",
              "      <td>40.650002</td>\n",
              "      <td>41.041521</td>\n",
              "    </tr>\n",
              "    <tr>\n",
              "      <th>170249</th>\n",
              "      <td>83.480003</td>\n",
              "      <td>83.561002</td>\n",
              "    </tr>\n",
              "    <tr>\n",
              "      <th>170250</th>\n",
              "      <td>47.709999</td>\n",
              "      <td>47.954851</td>\n",
              "    </tr>\n",
              "    <tr>\n",
              "      <th>170251</th>\n",
              "      <td>71.379997</td>\n",
              "      <td>71.742746</td>\n",
              "    </tr>\n",
              "    <tr>\n",
              "      <th>170252</th>\n",
              "      <td>72.000000</td>\n",
              "      <td>72.186816</td>\n",
              "    </tr>\n",
              "  </tbody>\n",
              "</table>\n",
              "<p>170253 rows × 2 columns</p>\n",
              "</div>"
            ],
            "text/plain": [
              "        Data Sebenarnya  Data Prediksi\n",
              "0             45.799999      45.835434\n",
              "1             64.690002      65.202844\n",
              "2            111.779999     111.718933\n",
              "3             41.000000      41.112168\n",
              "4             42.439999      42.817795\n",
              "...                 ...            ...\n",
              "170248        40.650002      41.041521\n",
              "170249        83.480003      83.561002\n",
              "170250        47.709999      47.954851\n",
              "170251        71.379997      71.742746\n",
              "170252        72.000000      72.186816\n",
              "\n",
              "[170253 rows x 2 columns]"
            ]
          },
          "metadata": {
            "tags": []
          },
          "execution_count": 39
        }
      ]
    },
    {
      "cell_type": "code",
      "metadata": {
        "colab": {
          "base_uri": "https://localhost:8080/",
          "height": 295
        },
        "id": "SlY9ZmbbAZ8w",
        "outputId": "b2e90537-c505-4d40-8823-1dbce92893e1"
      },
      "source": [
        "#Hasil\n",
        "%matplotlib inline\n",
        "from matplotlib import pyplot as plt\n",
        "plt.scatter(x_test, y_test, color = 'orange')\n",
        "plt.plot(x_train, lireg.predict(x_train), color = 'green' )\n",
        "plt.title('Harga Penutup Berdasarkan Harga Tertinggi')\n",
        "plt.xlabel('Harga Tertinggi')\n",
        "plt.ylabel('Harga Penutup')\n",
        "plt.show()\n"
      ],
      "execution_count": null,
      "outputs": [
        {
          "output_type": "display_data",
          "data": {
            "image/png": "[encoded data removed]",
            "text/plain": [
              "<Figure size 432x288 with 1 Axes>"
            ]
          },
          "metadata": {
            "tags": [],
            "needs_background": "light"
          }
        }
      ]
    },
    {
      "cell_type": "code",
      "metadata": {
        "id": "jTb4aEQRvSnu"
      },
      "source": [
        ""
      ],
      "execution_count": null,
      "outputs": []
    }
  ]
}